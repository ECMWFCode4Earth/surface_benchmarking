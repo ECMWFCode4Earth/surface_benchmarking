{
 "cells": [
  {
   "cell_type": "markdown",
   "id": "c02909a0",
   "metadata": {},
   "source": [
    "# Validation of ERA5 fluxes: daily average"
   ]
  },
  {
   "cell_type": "markdown",
   "id": "49177d38",
   "metadata": {},
   "source": [
    "in this notebook:\n",
    "- validates ERA5 fluxes for 00 and 12 UTC, calculates daily average fluxes and validates them as well\n",
    "- note: version for midterm webinar, without time shift to local time\n",
    "\n",
    "results:\n",
    "- 12 UTC correlation better than 00 UTC, bias higher for 12 UTC than 00 UTC (since we look at absolute values)\n",
    "- daily average values correlate really well, better than the ones for single hours"
   ]
  },
  {
   "cell_type": "code",
   "execution_count": 1,
   "id": "6b7f2680",
   "metadata": {},
   "outputs": [],
   "source": [
    "import matplotlib.pyplot as plt\n",
    "import matplotlib as mpl\n",
    "from matplotlib import ticker\n",
    "import pandas as pd\n",
    "import numpy as np\n",
    "import glob\n",
    "import metview as mv\n",
    "import xarray as xr\n",
    "execfile(\"utils.py\")\n",
    "%matplotlib inline\n",
    "\n",
    "colorpal=[\"midnightblue\",\"mediumblue\",\"green\",\"greenyellow\",\"yellow\",\n",
    "         \"gold\",\"orange\",\"red\",\"darkorchid\",\"darkviolet\",\"blueviolet\",\"indigo\"]"
   ]
  },
  {
   "cell_type": "code",
   "execution_count": 2,
   "id": "b26388ca",
   "metadata": {},
   "outputs": [
    {
     "data": {
      "text/plain": [
       "array([['BE-Bra', '51.30761', '4.51984', '16', 'Cfb', '3'],\n",
       "       ['BE-Vie', '50.304962', '5.998099', '490', 'Cfb', '18'],\n",
       "       ['DE-Tha', '50.96256', '13.56515', '380', 'Cfb', '3'],\n",
       "       ['DK-Sor', '55.48587', '11.644645', '40', 'Cfb', '5'],\n",
       "       ['FI-Hyy', '61.84741', '24.29477', '181', 'Dfc', '3'],\n",
       "       ['CH-Dav', '46.81533', '9.85591', '1689', 'Dfc', '3'],\n",
       "       ['RU-Fyo', '56.461528', '32.922083', '274', 'Dfc', '3'],\n",
       "       ['IT-Ren', '46.58686', '11.43369', '1735', 'Dfc', '3'],\n",
       "       ['DE-Hai', '51.079407', '10.452089', '438', 'Dfb', '6'],\n",
       "       ['IL-Yat', '31.345045', '35.051989', '657', 'Dfb', '6'],\n",
       "       ['DE-Geb', '51.09973', '10.91463', '161', 'Cfb', '1'],\n",
       "       ['SE-Deg', '64.18203', '19.55654', '270', 'Dfc', '13'],\n",
       "       ['IT-Lav', '45.9562', '11.28132', '1355', 'Dfc', '3'],\n",
       "       ['BE-Lon', '50.55162', '4.746234', '170', 'Cfb', '1'],\n",
       "       ['CH-Lae', '47.47808', '8.365', '689', 'Dfc', '3'],\n",
       "       ['CH-Oe2', '47.28631', '7.73433', '452', 'Dfb', '1'],\n",
       "       ['CZ-BK1', '49.502075', '18.536882', '875', 'Dfc', '3'],\n",
       "       ['DE-Gri', '50.95004', '13.51259', '385', 'Dfb', '2'],\n",
       "       ['DE-Kli', '50.89306', '13.52238', '478', 'Dfb', '1'],\n",
       "       ['ES-LJu', '36.926594', '-2.752115', '1613', 'Csa', '3'],\n",
       "       ['FR-Gri', '48.84422', '1.95191', '125', 'Cfb', '1'],\n",
       "       ['GF-Guy', '5.2787', '-52.9248', '40', 'Af', '6'],\n",
       "       ['IT-BCi', '40.52375', '14.957444', '10', 'Csa', '1'],\n",
       "       ['CH-Cha', '47.21022', '8.41044', '394.0', 'Dfc', '3'],\n",
       "       ['CH-Fru', '47.11583', '8.53778', '975', 'Dfc', '2'],\n",
       "       ['FR-Aur', '43.54965', '1.106103', '250', 'Cfb', '1'],\n",
       "       ['FR-Fon', '48.476357', '2.780096', '103', 'Cfb', '5'],\n",
       "       ['FR-Lam', '43.496437', '1.237878', '180', 'Cfb', '1'],\n",
       "       ['CH-Aws', '46.583306', '9.790417', '1988.0', 'Dfc', '3'],\n",
       "       ['CZ-Wet', '49.02465', '14.77035', '426.0', 'Dfb', '6'],\n",
       "       ['ES-Agu', '36.940046', '-2.033208', '202', 'Csa', '1'],\n",
       "       ['DE-Obe', '50.78666', '13.72129', '739', 'Dfb', '6'],\n",
       "       ['FR-Fbn', '43.24079', '5.67865', '436', 'Med', '2'],\n",
       "       ['IT-Tor', '45.84444', '7.578055', '2168', 'Dfc', '2'],\n",
       "       ['DE-Akm', '53.86617', '13.68342', '-1', 'Dfb', '5'],\n",
       "       ['FI-Let', '60.64183', '23.95952', '125', 'Dfb', '3'],\n",
       "       ['CZ-Stb', '49.035975', '17.9699', '562', 'Dfb', '3'],\n",
       "       ['DE-Hzd', '50.96381', '13.48978', '395', 'Dfb', '3'],\n",
       "       ['BE-Dor', '50.31135', '4.968591', '247', 'Cfb', '3'],\n",
       "       ['DE-RuR', '50.621914', '6.304126', '514', 'Cfb', '2'],\n",
       "       ['DE-RuS', '50.865906', '6.4471445', '103', 'Cfb', '1'],\n",
       "       ['CZ-RAJ', '49.443724', '16.696513', '649', 'Cfb', '2'],\n",
       "       ['DE-RuW', '50.50493', '6.3309627', '610', 'Cfb', '3'],\n",
       "       ['IT-cp2', '41.704266', '12.357293', '19', 'Csa', '18'],\n",
       "       ['IT-SR2', '43.73202', '10.29091', '4', 'Csa', '3'],\n",
       "       ['CZ-KrP', '49.573257', '15.078773', '534', 'Cfb', '2'],\n",
       "       ['ES-Cnd', '37.914998', '-3.227659', '366', 'Cfb', '2'],\n",
       "       ['ES-LM1', '39.94269', '-5.778683', '266', 'Csa', '2'],\n",
       "       ['ES-LM2', '39.934592', '-5.775881', '270', 'Csa', '2'],\n",
       "       ['FR-Bil', '44.493652', '-0.956092', '39', 'Cfb', '3'],\n",
       "       ['FR-Hes', '48.6741', '7.06465', '310', 'Cfb', '5'],\n",
       "       ['SE-Ros', '64.1725', '19.738', '157', 'Dfc', '3'],\n",
       "       ['SE-Svb', '64.25611', '19.7745', '267', 'Dfc', '3'],\n",
       "       ['CZ-Lnz', '48.68155', '16.946331', '150', 'Cfb', '18'],\n",
       "       ['DE-HoH', '52.08656', '11.22235', '193', 'Cfb', '5'],\n",
       "       ['ES-Abr', '38.701839', '-6.785881', '279', 'Cfb', '5'],\n",
       "       ['RU-Fy2', '56.447603', '32.901878', '276', 'Cfb', '3'],\n",
       "       ['SE-Htm', '56.09763', '13.41897', '115', 'Cfb', '3'],\n",
       "       ['BE-Maa', '50.97987', '5.631851', '87', 'Cfb', '16'],\n",
       "       ['FI-Sii', '61.83265', '24.19285', '160', 'Dfc', '13'],\n",
       "       ['FI-Var', '67.7549', '29.61', '395', 'Dfc', '3'],\n",
       "       ['IT-Lsn', '45.740482', '12.750297', '1', 'Cfa', '16'],\n",
       "       ['FR-LGt', '47.322918', '2.284102', '153', 'Cfb', '13'],\n",
       "       ['FI-Ken', '67.98721', '24.24301', '347', 'Cfa', '3'],\n",
       "       ['FI-Qvd', '60.295242', '22.391607', '10', 'Cfb', '3'],\n",
       "       ['FR-Tou', '43.572857', '1.37474', '158', 'Cfa', '2'],\n",
       "       ['BE-Lcr', '51.11218', '3.85043', '6', 'Cfb', '5'],\n",
       "       ['IT-BFt', '45.197754', '10.741966', '23', 'Cfa', '5'],\n",
       "       ['DK-Gds', '56.0737', '9.3341', '86', 'Cfb', '3'],\n",
       "       ['GL-Dsk', '69.25349', '-53.51413', '8', 'ET', '17'],\n",
       "       ['IE-Cra', '53.322978', '-7.641769', '56', 'Cfb', '2']],\n",
       "      dtype='<U9')"
      ]
     },
     "execution_count": 2,
     "metadata": {},
     "output_type": "execute_result"
    }
   ],
   "source": [
    "#model data directory\n",
    "dir=\"/home/lauracma/Documents/ecmwf_proj/data/model_fluxes/analysis_data/raw_data/0001_ea/2020/\"\n",
    "files=np.sort(glob.glob(dir+\"/*\"))\n",
    "\n",
    "#obs data\n",
    "dir_obs=\"/home/lauracma/Documents/ecmwf_proj/data/ISMN_data/in_situ_data/pre_processed_data/ICOS_FLUXNET/2020/\"\n",
    "\n",
    "#meta data ICOS stations 2020\n",
    "meta=np.loadtxt(\"/home/lauracma/Documents/ecmwf_proj/data/ISMN_data/in_situ_data/pre_processed_data/station_info/ICOS_FLUXNET/station_coords_2020\",\n",
    "                str, comments=\"%\", skiprows=1)\n",
    "meta"
   ]
  },
  {
   "cell_type": "markdown",
   "id": "49161021",
   "metadata": {},
   "source": [
    "## Validating all stations per year"
   ]
  },
  {
   "cell_type": "code",
   "execution_count": 3,
   "id": "5ba60698",
   "metadata": {},
   "outputs": [
    {
     "name": "stdout",
     "output_type": "stream",
     "text": [
      "month: 1\n",
      "month: 2\n",
      "month: 3\n",
      "month: 4\n",
      "month: 5\n",
      "month: 6\n",
      "month: 7\n",
      "month: 8\n",
      "month: 9\n",
      "month: 10\n",
      "month: 11\n",
      "month: 12\n"
     ]
    }
   ],
   "source": [
    "#prepare model data\n",
    "sh=mv.Fieldset()\n",
    "lh=mv.Fieldset()\n",
    "monlen=[31,29,31,30,31,30,31,31,30,31,30,31]\n",
    "for i in range(12):\n",
    "    print(\"month: \"+str(i+1))\n",
    "    tmp=mv.read(files[i]) #read model per month\n",
    "    sh_tmp=tmp[\"sshf\"]\n",
    "    lh_tmp=tmp[\"slhf\"]\n",
    "    sh.append(sh_tmp[:monlen[i]*26]) #26 because of the deacc values\n",
    "    lh.append(lh_tmp[:monlen[i]*26])"
   ]
  },
  {
   "cell_type": "code",
   "execution_count": 5,
   "id": "2d808679",
   "metadata": {},
   "outputs": [],
   "source": [
    "nstations=np.shape(meta)[0]\n",
    "#sh\n",
    "sh_cors00=np.zeros(nstations)\n",
    "sh_cors06=np.zeros(nstations)\n",
    "sh_cors12=np.zeros(nstations)\n",
    "sh_cors18=np.zeros(nstations)\n",
    "sh_cors_day_av=np.zeros(nstations)\n",
    "sh_md_day_av=np.zeros(nstations)\n",
    "sh_md12=np.zeros(nstations)\n",
    "sh_md00=np.zeros(nstations)\n",
    "#lh\n",
    "lh_cors00=np.zeros(nstations)\n",
    "lh_cors06=np.zeros(nstations)\n",
    "lh_cors12=np.zeros(nstations)\n",
    "lh_cors18=np.zeros(nstations)\n",
    "lh_cors_day_av=np.zeros(nstations)\n",
    "lh_md_day_av=np.zeros(nstations)\n",
    "lh_md12=np.zeros(nstations)\n",
    "lh_md00=np.zeros(nstations)"
   ]
  },
  {
   "cell_type": "code",
   "execution_count": 6,
   "id": "1b83cc46",
   "metadata": {},
   "outputs": [
    {
     "name": "stdout",
     "output_type": "stream",
     "text": [
      "station #0\n"
     ]
    },
    {
     "name": "stderr",
     "output_type": "stream",
     "text": [
      "utils.py:108: RuntimeWarning: Mean of empty slice\n",
      "  sh_av_obs[int((i+48)/48)]=np.nanmean(sh_obs[i:i+48:2])\n",
      "utils.py:109: RuntimeWarning: Mean of empty slice\n",
      "  lh_av_obs[int((i+48)/48)]=np.nanmean(lh_obs[i:i+48:2])\n",
      "/tmp/ipykernel_59506/2915610606.py:36: RuntimeWarning: Mean of empty slice\n",
      "  sh_md12[i]=np.nanmean(sh_mod[12:np.shape(sh_mod)[0]:24]-sh_obs[24:np.shape(sh_obs)[0]:48])\n",
      "/tmp/ipykernel_59506/2915610606.py:37: RuntimeWarning: Mean of empty slice\n",
      "  sh_md00[i]=np.nanmean(sh_mod[0:np.shape(sh_mod)[0]:24]-sh_obs[0:np.shape(sh_obs)[0]:48])\n",
      "/tmp/ipykernel_59506/2915610606.py:38: RuntimeWarning: Mean of empty slice\n",
      "  lh_md12[i]=np.nanmean(lh_mod[12:np.shape(lh_mod)[0]:24]-lh_obs[24:np.shape(lh_obs)[0]:48])\n",
      "/tmp/ipykernel_59506/2915610606.py:39: RuntimeWarning: Mean of empty slice\n",
      "  lh_md00[i]=np.nanmean(lh_mod[0:np.shape(lh_mod)[0]:24]-lh_obs[0:np.shape(lh_obs)[0]:48])\n"
     ]
    },
    {
     "name": "stdout",
     "output_type": "stream",
     "text": [
      "station #1\n"
     ]
    },
    {
     "name": "stderr",
     "output_type": "stream",
     "text": [
      "utils.py:108: RuntimeWarning: Mean of empty slice\n",
      "  sh_av_obs[int((i+48)/48)]=np.nanmean(sh_obs[i:i+48:2])\n",
      "utils.py:109: RuntimeWarning: Mean of empty slice\n",
      "  lh_av_obs[int((i+48)/48)]=np.nanmean(lh_obs[i:i+48:2])\n"
     ]
    },
    {
     "name": "stdout",
     "output_type": "stream",
     "text": [
      "station #2\n",
      "station #3\n"
     ]
    },
    {
     "name": "stderr",
     "output_type": "stream",
     "text": [
      "utils.py:108: RuntimeWarning: Mean of empty slice\n",
      "  sh_av_obs[int((i+48)/48)]=np.nanmean(sh_obs[i:i+48:2])\n",
      "utils.py:109: RuntimeWarning: Mean of empty slice\n",
      "  lh_av_obs[int((i+48)/48)]=np.nanmean(lh_obs[i:i+48:2])\n",
      "/tmp/ipykernel_59506/2915610606.py:36: RuntimeWarning: Mean of empty slice\n",
      "  sh_md12[i]=np.nanmean(sh_mod[12:np.shape(sh_mod)[0]:24]-sh_obs[24:np.shape(sh_obs)[0]:48])\n",
      "/tmp/ipykernel_59506/2915610606.py:37: RuntimeWarning: Mean of empty slice\n",
      "  sh_md00[i]=np.nanmean(sh_mod[0:np.shape(sh_mod)[0]:24]-sh_obs[0:np.shape(sh_obs)[0]:48])\n",
      "/tmp/ipykernel_59506/2915610606.py:38: RuntimeWarning: Mean of empty slice\n",
      "  lh_md12[i]=np.nanmean(lh_mod[12:np.shape(lh_mod)[0]:24]-lh_obs[24:np.shape(lh_obs)[0]:48])\n",
      "/tmp/ipykernel_59506/2915610606.py:39: RuntimeWarning: Mean of empty slice\n",
      "  lh_md00[i]=np.nanmean(lh_mod[0:np.shape(lh_mod)[0]:24]-lh_obs[0:np.shape(lh_obs)[0]:48])\n"
     ]
    },
    {
     "name": "stdout",
     "output_type": "stream",
     "text": [
      "station #4\n"
     ]
    },
    {
     "name": "stderr",
     "output_type": "stream",
     "text": [
      "utils.py:108: RuntimeWarning: Mean of empty slice\n",
      "  sh_av_obs[int((i+48)/48)]=np.nanmean(sh_obs[i:i+48:2])\n",
      "utils.py:109: RuntimeWarning: Mean of empty slice\n",
      "  lh_av_obs[int((i+48)/48)]=np.nanmean(lh_obs[i:i+48:2])\n",
      "/tmp/ipykernel_59506/2915610606.py:36: RuntimeWarning: Mean of empty slice\n",
      "  sh_md12[i]=np.nanmean(sh_mod[12:np.shape(sh_mod)[0]:24]-sh_obs[24:np.shape(sh_obs)[0]:48])\n",
      "/tmp/ipykernel_59506/2915610606.py:37: RuntimeWarning: Mean of empty slice\n",
      "  sh_md00[i]=np.nanmean(sh_mod[0:np.shape(sh_mod)[0]:24]-sh_obs[0:np.shape(sh_obs)[0]:48])\n",
      "/tmp/ipykernel_59506/2915610606.py:38: RuntimeWarning: Mean of empty slice\n",
      "  lh_md12[i]=np.nanmean(lh_mod[12:np.shape(lh_mod)[0]:24]-lh_obs[24:np.shape(lh_obs)[0]:48])\n",
      "/tmp/ipykernel_59506/2915610606.py:39: RuntimeWarning: Mean of empty slice\n",
      "  lh_md00[i]=np.nanmean(lh_mod[0:np.shape(lh_mod)[0]:24]-lh_obs[0:np.shape(lh_obs)[0]:48])\n"
     ]
    },
    {
     "name": "stdout",
     "output_type": "stream",
     "text": [
      "station #5\n"
     ]
    },
    {
     "name": "stderr",
     "output_type": "stream",
     "text": [
      "utils.py:108: RuntimeWarning: Mean of empty slice\n",
      "  sh_av_obs[int((i+48)/48)]=np.nanmean(sh_obs[i:i+48:2])\n",
      "utils.py:109: RuntimeWarning: Mean of empty slice\n",
      "  lh_av_obs[int((i+48)/48)]=np.nanmean(lh_obs[i:i+48:2])\n",
      "/tmp/ipykernel_59506/2915610606.py:36: RuntimeWarning: Mean of empty slice\n",
      "  sh_md12[i]=np.nanmean(sh_mod[12:np.shape(sh_mod)[0]:24]-sh_obs[24:np.shape(sh_obs)[0]:48])\n",
      "/tmp/ipykernel_59506/2915610606.py:37: RuntimeWarning: Mean of empty slice\n",
      "  sh_md00[i]=np.nanmean(sh_mod[0:np.shape(sh_mod)[0]:24]-sh_obs[0:np.shape(sh_obs)[0]:48])\n",
      "/tmp/ipykernel_59506/2915610606.py:38: RuntimeWarning: Mean of empty slice\n",
      "  lh_md12[i]=np.nanmean(lh_mod[12:np.shape(lh_mod)[0]:24]-lh_obs[24:np.shape(lh_obs)[0]:48])\n",
      "/tmp/ipykernel_59506/2915610606.py:39: RuntimeWarning: Mean of empty slice\n",
      "  lh_md00[i]=np.nanmean(lh_mod[0:np.shape(lh_mod)[0]:24]-lh_obs[0:np.shape(lh_obs)[0]:48])\n"
     ]
    },
    {
     "name": "stdout",
     "output_type": "stream",
     "text": [
      "station #6\n",
      "station #7\n",
      "station #8\n",
      "station #9\n",
      "station #10\n",
      "station #11\n",
      "station #12\n"
     ]
    },
    {
     "name": "stderr",
     "output_type": "stream",
     "text": [
      "utils.py:108: RuntimeWarning: Mean of empty slice\n",
      "  sh_av_obs[int((i+48)/48)]=np.nanmean(sh_obs[i:i+48:2])\n",
      "utils.py:109: RuntimeWarning: Mean of empty slice\n",
      "  lh_av_obs[int((i+48)/48)]=np.nanmean(lh_obs[i:i+48:2])\n",
      "/tmp/ipykernel_59506/2915610606.py:36: RuntimeWarning: Mean of empty slice\n",
      "  sh_md12[i]=np.nanmean(sh_mod[12:np.shape(sh_mod)[0]:24]-sh_obs[24:np.shape(sh_obs)[0]:48])\n",
      "/tmp/ipykernel_59506/2915610606.py:37: RuntimeWarning: Mean of empty slice\n",
      "  sh_md00[i]=np.nanmean(sh_mod[0:np.shape(sh_mod)[0]:24]-sh_obs[0:np.shape(sh_obs)[0]:48])\n",
      "/tmp/ipykernel_59506/2915610606.py:38: RuntimeWarning: Mean of empty slice\n",
      "  lh_md12[i]=np.nanmean(lh_mod[12:np.shape(lh_mod)[0]:24]-lh_obs[24:np.shape(lh_obs)[0]:48])\n",
      "/tmp/ipykernel_59506/2915610606.py:39: RuntimeWarning: Mean of empty slice\n",
      "  lh_md00[i]=np.nanmean(lh_mod[0:np.shape(lh_mod)[0]:24]-lh_obs[0:np.shape(lh_obs)[0]:48])\n"
     ]
    },
    {
     "name": "stdout",
     "output_type": "stream",
     "text": [
      "station #13\n"
     ]
    },
    {
     "name": "stderr",
     "output_type": "stream",
     "text": [
      "utils.py:108: RuntimeWarning: Mean of empty slice\n",
      "  sh_av_obs[int((i+48)/48)]=np.nanmean(sh_obs[i:i+48:2])\n",
      "utils.py:109: RuntimeWarning: Mean of empty slice\n",
      "  lh_av_obs[int((i+48)/48)]=np.nanmean(lh_obs[i:i+48:2])\n",
      "/tmp/ipykernel_59506/2915610606.py:36: RuntimeWarning: Mean of empty slice\n",
      "  sh_md12[i]=np.nanmean(sh_mod[12:np.shape(sh_mod)[0]:24]-sh_obs[24:np.shape(sh_obs)[0]:48])\n",
      "/tmp/ipykernel_59506/2915610606.py:37: RuntimeWarning: Mean of empty slice\n",
      "  sh_md00[i]=np.nanmean(sh_mod[0:np.shape(sh_mod)[0]:24]-sh_obs[0:np.shape(sh_obs)[0]:48])\n",
      "/tmp/ipykernel_59506/2915610606.py:38: RuntimeWarning: Mean of empty slice\n",
      "  lh_md12[i]=np.nanmean(lh_mod[12:np.shape(lh_mod)[0]:24]-lh_obs[24:np.shape(lh_obs)[0]:48])\n",
      "/tmp/ipykernel_59506/2915610606.py:39: RuntimeWarning: Mean of empty slice\n",
      "  lh_md00[i]=np.nanmean(lh_mod[0:np.shape(lh_mod)[0]:24]-lh_obs[0:np.shape(lh_obs)[0]:48])\n"
     ]
    },
    {
     "name": "stdout",
     "output_type": "stream",
     "text": [
      "station #14\n"
     ]
    },
    {
     "name": "stderr",
     "output_type": "stream",
     "text": [
      "utils.py:108: RuntimeWarning: Mean of empty slice\n",
      "  sh_av_obs[int((i+48)/48)]=np.nanmean(sh_obs[i:i+48:2])\n",
      "utils.py:109: RuntimeWarning: Mean of empty slice\n",
      "  lh_av_obs[int((i+48)/48)]=np.nanmean(lh_obs[i:i+48:2])\n",
      "/tmp/ipykernel_59506/2915610606.py:36: RuntimeWarning: Mean of empty slice\n",
      "  sh_md12[i]=np.nanmean(sh_mod[12:np.shape(sh_mod)[0]:24]-sh_obs[24:np.shape(sh_obs)[0]:48])\n",
      "/tmp/ipykernel_59506/2915610606.py:37: RuntimeWarning: Mean of empty slice\n",
      "  sh_md00[i]=np.nanmean(sh_mod[0:np.shape(sh_mod)[0]:24]-sh_obs[0:np.shape(sh_obs)[0]:48])\n",
      "/tmp/ipykernel_59506/2915610606.py:38: RuntimeWarning: Mean of empty slice\n",
      "  lh_md12[i]=np.nanmean(lh_mod[12:np.shape(lh_mod)[0]:24]-lh_obs[24:np.shape(lh_obs)[0]:48])\n",
      "/tmp/ipykernel_59506/2915610606.py:39: RuntimeWarning: Mean of empty slice\n",
      "  lh_md00[i]=np.nanmean(lh_mod[0:np.shape(lh_mod)[0]:24]-lh_obs[0:np.shape(lh_obs)[0]:48])\n"
     ]
    },
    {
     "name": "stdout",
     "output_type": "stream",
     "text": [
      "station #15\n"
     ]
    },
    {
     "name": "stderr",
     "output_type": "stream",
     "text": [
      "utils.py:108: RuntimeWarning: Mean of empty slice\n",
      "  sh_av_obs[int((i+48)/48)]=np.nanmean(sh_obs[i:i+48:2])\n",
      "utils.py:109: RuntimeWarning: Mean of empty slice\n",
      "  lh_av_obs[int((i+48)/48)]=np.nanmean(lh_obs[i:i+48:2])\n",
      "/tmp/ipykernel_59506/2915610606.py:36: RuntimeWarning: Mean of empty slice\n",
      "  sh_md12[i]=np.nanmean(sh_mod[12:np.shape(sh_mod)[0]:24]-sh_obs[24:np.shape(sh_obs)[0]:48])\n",
      "/tmp/ipykernel_59506/2915610606.py:37: RuntimeWarning: Mean of empty slice\n",
      "  sh_md00[i]=np.nanmean(sh_mod[0:np.shape(sh_mod)[0]:24]-sh_obs[0:np.shape(sh_obs)[0]:48])\n",
      "/tmp/ipykernel_59506/2915610606.py:38: RuntimeWarning: Mean of empty slice\n",
      "  lh_md12[i]=np.nanmean(lh_mod[12:np.shape(lh_mod)[0]:24]-lh_obs[24:np.shape(lh_obs)[0]:48])\n",
      "/tmp/ipykernel_59506/2915610606.py:39: RuntimeWarning: Mean of empty slice\n",
      "  lh_md00[i]=np.nanmean(lh_mod[0:np.shape(lh_mod)[0]:24]-lh_obs[0:np.shape(lh_obs)[0]:48])\n"
     ]
    },
    {
     "name": "stdout",
     "output_type": "stream",
     "text": [
      "station #16\n",
      "station #17\n",
      "station #18\n",
      "station #19\n",
      "station #20\n",
      "station #21\n"
     ]
    },
    {
     "name": "stderr",
     "output_type": "stream",
     "text": [
      "utils.py:108: RuntimeWarning: Mean of empty slice\n",
      "  sh_av_obs[int((i+48)/48)]=np.nanmean(sh_obs[i:i+48:2])\n",
      "utils.py:109: RuntimeWarning: Mean of empty slice\n",
      "  lh_av_obs[int((i+48)/48)]=np.nanmean(lh_obs[i:i+48:2])\n",
      "/tmp/ipykernel_59506/2915610606.py:36: RuntimeWarning: Mean of empty slice\n",
      "  sh_md12[i]=np.nanmean(sh_mod[12:np.shape(sh_mod)[0]:24]-sh_obs[24:np.shape(sh_obs)[0]:48])\n",
      "/tmp/ipykernel_59506/2915610606.py:37: RuntimeWarning: Mean of empty slice\n",
      "  sh_md00[i]=np.nanmean(sh_mod[0:np.shape(sh_mod)[0]:24]-sh_obs[0:np.shape(sh_obs)[0]:48])\n",
      "/tmp/ipykernel_59506/2915610606.py:38: RuntimeWarning: Mean of empty slice\n",
      "  lh_md12[i]=np.nanmean(lh_mod[12:np.shape(lh_mod)[0]:24]-lh_obs[24:np.shape(lh_obs)[0]:48])\n",
      "/tmp/ipykernel_59506/2915610606.py:39: RuntimeWarning: Mean of empty slice\n",
      "  lh_md00[i]=np.nanmean(lh_mod[0:np.shape(lh_mod)[0]:24]-lh_obs[0:np.shape(lh_obs)[0]:48])\n"
     ]
    },
    {
     "name": "stdout",
     "output_type": "stream",
     "text": [
      "station #22\n",
      "station #23\n",
      "station #24\n"
     ]
    },
    {
     "name": "stderr",
     "output_type": "stream",
     "text": [
      "utils.py:108: RuntimeWarning: Mean of empty slice\n",
      "  sh_av_obs[int((i+48)/48)]=np.nanmean(sh_obs[i:i+48:2])\n",
      "utils.py:109: RuntimeWarning: Mean of empty slice\n",
      "  lh_av_obs[int((i+48)/48)]=np.nanmean(lh_obs[i:i+48:2])\n",
      "/tmp/ipykernel_59506/2915610606.py:36: RuntimeWarning: Mean of empty slice\n",
      "  sh_md12[i]=np.nanmean(sh_mod[12:np.shape(sh_mod)[0]:24]-sh_obs[24:np.shape(sh_obs)[0]:48])\n",
      "/tmp/ipykernel_59506/2915610606.py:37: RuntimeWarning: Mean of empty slice\n",
      "  sh_md00[i]=np.nanmean(sh_mod[0:np.shape(sh_mod)[0]:24]-sh_obs[0:np.shape(sh_obs)[0]:48])\n",
      "/tmp/ipykernel_59506/2915610606.py:38: RuntimeWarning: Mean of empty slice\n",
      "  lh_md12[i]=np.nanmean(lh_mod[12:np.shape(lh_mod)[0]:24]-lh_obs[24:np.shape(lh_obs)[0]:48])\n",
      "/tmp/ipykernel_59506/2915610606.py:39: RuntimeWarning: Mean of empty slice\n",
      "  lh_md00[i]=np.nanmean(lh_mod[0:np.shape(lh_mod)[0]:24]-lh_obs[0:np.shape(lh_obs)[0]:48])\n"
     ]
    },
    {
     "name": "stdout",
     "output_type": "stream",
     "text": [
      "station #25\n",
      "station #26\n"
     ]
    },
    {
     "name": "stderr",
     "output_type": "stream",
     "text": [
      "utils.py:108: RuntimeWarning: Mean of empty slice\n",
      "  sh_av_obs[int((i+48)/48)]=np.nanmean(sh_obs[i:i+48:2])\n",
      "utils.py:109: RuntimeWarning: Mean of empty slice\n",
      "  lh_av_obs[int((i+48)/48)]=np.nanmean(lh_obs[i:i+48:2])\n",
      "/tmp/ipykernel_59506/2915610606.py:36: RuntimeWarning: Mean of empty slice\n",
      "  sh_md12[i]=np.nanmean(sh_mod[12:np.shape(sh_mod)[0]:24]-sh_obs[24:np.shape(sh_obs)[0]:48])\n",
      "/tmp/ipykernel_59506/2915610606.py:37: RuntimeWarning: Mean of empty slice\n",
      "  sh_md00[i]=np.nanmean(sh_mod[0:np.shape(sh_mod)[0]:24]-sh_obs[0:np.shape(sh_obs)[0]:48])\n",
      "/tmp/ipykernel_59506/2915610606.py:38: RuntimeWarning: Mean of empty slice\n",
      "  lh_md12[i]=np.nanmean(lh_mod[12:np.shape(lh_mod)[0]:24]-lh_obs[24:np.shape(lh_obs)[0]:48])\n",
      "/tmp/ipykernel_59506/2915610606.py:39: RuntimeWarning: Mean of empty slice\n",
      "  lh_md00[i]=np.nanmean(lh_mod[0:np.shape(lh_mod)[0]:24]-lh_obs[0:np.shape(lh_obs)[0]:48])\n"
     ]
    },
    {
     "name": "stdout",
     "output_type": "stream",
     "text": [
      "station #27\n",
      "station #28\n"
     ]
    },
    {
     "name": "stderr",
     "output_type": "stream",
     "text": [
      "utils.py:108: RuntimeWarning: Mean of empty slice\n",
      "  sh_av_obs[int((i+48)/48)]=np.nanmean(sh_obs[i:i+48:2])\n",
      "utils.py:109: RuntimeWarning: Mean of empty slice\n",
      "  lh_av_obs[int((i+48)/48)]=np.nanmean(lh_obs[i:i+48:2])\n",
      "/tmp/ipykernel_59506/2915610606.py:36: RuntimeWarning: Mean of empty slice\n",
      "  sh_md12[i]=np.nanmean(sh_mod[12:np.shape(sh_mod)[0]:24]-sh_obs[24:np.shape(sh_obs)[0]:48])\n",
      "/tmp/ipykernel_59506/2915610606.py:37: RuntimeWarning: Mean of empty slice\n",
      "  sh_md00[i]=np.nanmean(sh_mod[0:np.shape(sh_mod)[0]:24]-sh_obs[0:np.shape(sh_obs)[0]:48])\n",
      "/tmp/ipykernel_59506/2915610606.py:38: RuntimeWarning: Mean of empty slice\n",
      "  lh_md12[i]=np.nanmean(lh_mod[12:np.shape(lh_mod)[0]:24]-lh_obs[24:np.shape(lh_obs)[0]:48])\n",
      "/tmp/ipykernel_59506/2915610606.py:39: RuntimeWarning: Mean of empty slice\n",
      "  lh_md00[i]=np.nanmean(lh_mod[0:np.shape(lh_mod)[0]:24]-lh_obs[0:np.shape(lh_obs)[0]:48])\n"
     ]
    },
    {
     "name": "stdout",
     "output_type": "stream",
     "text": [
      "station #29\n",
      "station #30\n"
     ]
    },
    {
     "name": "stderr",
     "output_type": "stream",
     "text": [
      "utils.py:108: RuntimeWarning: Mean of empty slice\n",
      "  sh_av_obs[int((i+48)/48)]=np.nanmean(sh_obs[i:i+48:2])\n",
      "utils.py:109: RuntimeWarning: Mean of empty slice\n",
      "  lh_av_obs[int((i+48)/48)]=np.nanmean(lh_obs[i:i+48:2])\n",
      "/tmp/ipykernel_59506/2915610606.py:36: RuntimeWarning: Mean of empty slice\n",
      "  sh_md12[i]=np.nanmean(sh_mod[12:np.shape(sh_mod)[0]:24]-sh_obs[24:np.shape(sh_obs)[0]:48])\n",
      "/tmp/ipykernel_59506/2915610606.py:37: RuntimeWarning: Mean of empty slice\n",
      "  sh_md00[i]=np.nanmean(sh_mod[0:np.shape(sh_mod)[0]:24]-sh_obs[0:np.shape(sh_obs)[0]:48])\n",
      "/tmp/ipykernel_59506/2915610606.py:38: RuntimeWarning: Mean of empty slice\n",
      "  lh_md12[i]=np.nanmean(lh_mod[12:np.shape(lh_mod)[0]:24]-lh_obs[24:np.shape(lh_obs)[0]:48])\n",
      "/tmp/ipykernel_59506/2915610606.py:39: RuntimeWarning: Mean of empty slice\n",
      "  lh_md00[i]=np.nanmean(lh_mod[0:np.shape(lh_mod)[0]:24]-lh_obs[0:np.shape(lh_obs)[0]:48])\n"
     ]
    },
    {
     "name": "stdout",
     "output_type": "stream",
     "text": [
      "station #31\n",
      "station #32\n",
      "station #33\n",
      "station #34\n"
     ]
    },
    {
     "name": "stderr",
     "output_type": "stream",
     "text": [
      "utils.py:108: RuntimeWarning: Mean of empty slice\n",
      "  sh_av_obs[int((i+48)/48)]=np.nanmean(sh_obs[i:i+48:2])\n",
      "utils.py:109: RuntimeWarning: Mean of empty slice\n",
      "  lh_av_obs[int((i+48)/48)]=np.nanmean(lh_obs[i:i+48:2])\n",
      "/tmp/ipykernel_59506/2915610606.py:36: RuntimeWarning: Mean of empty slice\n",
      "  sh_md12[i]=np.nanmean(sh_mod[12:np.shape(sh_mod)[0]:24]-sh_obs[24:np.shape(sh_obs)[0]:48])\n",
      "/tmp/ipykernel_59506/2915610606.py:37: RuntimeWarning: Mean of empty slice\n",
      "  sh_md00[i]=np.nanmean(sh_mod[0:np.shape(sh_mod)[0]:24]-sh_obs[0:np.shape(sh_obs)[0]:48])\n",
      "/tmp/ipykernel_59506/2915610606.py:38: RuntimeWarning: Mean of empty slice\n",
      "  lh_md12[i]=np.nanmean(lh_mod[12:np.shape(lh_mod)[0]:24]-lh_obs[24:np.shape(lh_obs)[0]:48])\n",
      "/tmp/ipykernel_59506/2915610606.py:39: RuntimeWarning: Mean of empty slice\n",
      "  lh_md00[i]=np.nanmean(lh_mod[0:np.shape(lh_mod)[0]:24]-lh_obs[0:np.shape(lh_obs)[0]:48])\n"
     ]
    },
    {
     "name": "stdout",
     "output_type": "stream",
     "text": [
      "station #35\n",
      "station #36\n",
      "station #37\n"
     ]
    },
    {
     "name": "stderr",
     "output_type": "stream",
     "text": [
      "utils.py:108: RuntimeWarning: Mean of empty slice\n",
      "  sh_av_obs[int((i+48)/48)]=np.nanmean(sh_obs[i:i+48:2])\n",
      "utils.py:109: RuntimeWarning: Mean of empty slice\n",
      "  lh_av_obs[int((i+48)/48)]=np.nanmean(lh_obs[i:i+48:2])\n"
     ]
    },
    {
     "name": "stdout",
     "output_type": "stream",
     "text": [
      "station #38\n"
     ]
    },
    {
     "name": "stderr",
     "output_type": "stream",
     "text": [
      "utils.py:108: RuntimeWarning: Mean of empty slice\n",
      "  sh_av_obs[int((i+48)/48)]=np.nanmean(sh_obs[i:i+48:2])\n",
      "utils.py:109: RuntimeWarning: Mean of empty slice\n",
      "  lh_av_obs[int((i+48)/48)]=np.nanmean(lh_obs[i:i+48:2])\n",
      "/tmp/ipykernel_59506/2915610606.py:36: RuntimeWarning: Mean of empty slice\n",
      "  sh_md12[i]=np.nanmean(sh_mod[12:np.shape(sh_mod)[0]:24]-sh_obs[24:np.shape(sh_obs)[0]:48])\n",
      "/tmp/ipykernel_59506/2915610606.py:37: RuntimeWarning: Mean of empty slice\n",
      "  sh_md00[i]=np.nanmean(sh_mod[0:np.shape(sh_mod)[0]:24]-sh_obs[0:np.shape(sh_obs)[0]:48])\n",
      "/tmp/ipykernel_59506/2915610606.py:38: RuntimeWarning: Mean of empty slice\n",
      "  lh_md12[i]=np.nanmean(lh_mod[12:np.shape(lh_mod)[0]:24]-lh_obs[24:np.shape(lh_obs)[0]:48])\n",
      "/tmp/ipykernel_59506/2915610606.py:39: RuntimeWarning: Mean of empty slice\n",
      "  lh_md00[i]=np.nanmean(lh_mod[0:np.shape(lh_mod)[0]:24]-lh_obs[0:np.shape(lh_obs)[0]:48])\n"
     ]
    },
    {
     "name": "stdout",
     "output_type": "stream",
     "text": [
      "station #39\n",
      "station #40\n",
      "station #41\n",
      "station #42\n"
     ]
    },
    {
     "name": "stderr",
     "output_type": "stream",
     "text": [
      "utils.py:108: RuntimeWarning: Mean of empty slice\n",
      "  sh_av_obs[int((i+48)/48)]=np.nanmean(sh_obs[i:i+48:2])\n",
      "utils.py:109: RuntimeWarning: Mean of empty slice\n",
      "  lh_av_obs[int((i+48)/48)]=np.nanmean(lh_obs[i:i+48:2])\n",
      "/tmp/ipykernel_59506/2915610606.py:36: RuntimeWarning: Mean of empty slice\n",
      "  sh_md12[i]=np.nanmean(sh_mod[12:np.shape(sh_mod)[0]:24]-sh_obs[24:np.shape(sh_obs)[0]:48])\n",
      "/tmp/ipykernel_59506/2915610606.py:37: RuntimeWarning: Mean of empty slice\n",
      "  sh_md00[i]=np.nanmean(sh_mod[0:np.shape(sh_mod)[0]:24]-sh_obs[0:np.shape(sh_obs)[0]:48])\n",
      "/tmp/ipykernel_59506/2915610606.py:38: RuntimeWarning: Mean of empty slice\n",
      "  lh_md12[i]=np.nanmean(lh_mod[12:np.shape(lh_mod)[0]:24]-lh_obs[24:np.shape(lh_obs)[0]:48])\n",
      "/tmp/ipykernel_59506/2915610606.py:39: RuntimeWarning: Mean of empty slice\n",
      "  lh_md00[i]=np.nanmean(lh_mod[0:np.shape(lh_mod)[0]:24]-lh_obs[0:np.shape(lh_obs)[0]:48])\n"
     ]
    },
    {
     "name": "stdout",
     "output_type": "stream",
     "text": [
      "station #43\n",
      "station #44\n",
      "station #45\n",
      "station #46\n",
      "station #47\n",
      "station #48\n",
      "station #49\n",
      "station #50\n",
      "station #51\n",
      "station #52\n",
      "station #53\n"
     ]
    },
    {
     "name": "stderr",
     "output_type": "stream",
     "text": [
      "utils.py:108: RuntimeWarning: Mean of empty slice\n",
      "  sh_av_obs[int((i+48)/48)]=np.nanmean(sh_obs[i:i+48:2])\n",
      "utils.py:109: RuntimeWarning: Mean of empty slice\n",
      "  lh_av_obs[int((i+48)/48)]=np.nanmean(lh_obs[i:i+48:2])\n",
      "/tmp/ipykernel_59506/2915610606.py:36: RuntimeWarning: Mean of empty slice\n",
      "  sh_md12[i]=np.nanmean(sh_mod[12:np.shape(sh_mod)[0]:24]-sh_obs[24:np.shape(sh_obs)[0]:48])\n",
      "/tmp/ipykernel_59506/2915610606.py:37: RuntimeWarning: Mean of empty slice\n",
      "  sh_md00[i]=np.nanmean(sh_mod[0:np.shape(sh_mod)[0]:24]-sh_obs[0:np.shape(sh_obs)[0]:48])\n",
      "/tmp/ipykernel_59506/2915610606.py:38: RuntimeWarning: Mean of empty slice\n",
      "  lh_md12[i]=np.nanmean(lh_mod[12:np.shape(lh_mod)[0]:24]-lh_obs[24:np.shape(lh_obs)[0]:48])\n",
      "/tmp/ipykernel_59506/2915610606.py:39: RuntimeWarning: Mean of empty slice\n",
      "  lh_md00[i]=np.nanmean(lh_mod[0:np.shape(lh_mod)[0]:24]-lh_obs[0:np.shape(lh_obs)[0]:48])\n"
     ]
    },
    {
     "name": "stdout",
     "output_type": "stream",
     "text": [
      "station #54\n",
      "station #55\n",
      "station #56\n",
      "station #57\n",
      "station #58\n"
     ]
    },
    {
     "name": "stderr",
     "output_type": "stream",
     "text": [
      "utils.py:108: RuntimeWarning: Mean of empty slice\n",
      "  sh_av_obs[int((i+48)/48)]=np.nanmean(sh_obs[i:i+48:2])\n",
      "utils.py:109: RuntimeWarning: Mean of empty slice\n",
      "  lh_av_obs[int((i+48)/48)]=np.nanmean(lh_obs[i:i+48:2])\n",
      "/tmp/ipykernel_59506/2915610606.py:36: RuntimeWarning: Mean of empty slice\n",
      "  sh_md12[i]=np.nanmean(sh_mod[12:np.shape(sh_mod)[0]:24]-sh_obs[24:np.shape(sh_obs)[0]:48])\n",
      "/tmp/ipykernel_59506/2915610606.py:37: RuntimeWarning: Mean of empty slice\n",
      "  sh_md00[i]=np.nanmean(sh_mod[0:np.shape(sh_mod)[0]:24]-sh_obs[0:np.shape(sh_obs)[0]:48])\n",
      "/tmp/ipykernel_59506/2915610606.py:38: RuntimeWarning: Mean of empty slice\n",
      "  lh_md12[i]=np.nanmean(lh_mod[12:np.shape(lh_mod)[0]:24]-lh_obs[24:np.shape(lh_obs)[0]:48])\n",
      "/tmp/ipykernel_59506/2915610606.py:39: RuntimeWarning: Mean of empty slice\n",
      "  lh_md00[i]=np.nanmean(lh_mod[0:np.shape(lh_mod)[0]:24]-lh_obs[0:np.shape(lh_obs)[0]:48])\n"
     ]
    },
    {
     "name": "stdout",
     "output_type": "stream",
     "text": [
      "station #59\n"
     ]
    },
    {
     "name": "stderr",
     "output_type": "stream",
     "text": [
      "utils.py:108: RuntimeWarning: Mean of empty slice\n",
      "  sh_av_obs[int((i+48)/48)]=np.nanmean(sh_obs[i:i+48:2])\n",
      "utils.py:109: RuntimeWarning: Mean of empty slice\n",
      "  lh_av_obs[int((i+48)/48)]=np.nanmean(lh_obs[i:i+48:2])\n",
      "/tmp/ipykernel_59506/2915610606.py:36: RuntimeWarning: Mean of empty slice\n",
      "  sh_md12[i]=np.nanmean(sh_mod[12:np.shape(sh_mod)[0]:24]-sh_obs[24:np.shape(sh_obs)[0]:48])\n",
      "/tmp/ipykernel_59506/2915610606.py:37: RuntimeWarning: Mean of empty slice\n",
      "  sh_md00[i]=np.nanmean(sh_mod[0:np.shape(sh_mod)[0]:24]-sh_obs[0:np.shape(sh_obs)[0]:48])\n",
      "/tmp/ipykernel_59506/2915610606.py:38: RuntimeWarning: Mean of empty slice\n",
      "  lh_md12[i]=np.nanmean(lh_mod[12:np.shape(lh_mod)[0]:24]-lh_obs[24:np.shape(lh_obs)[0]:48])\n",
      "/tmp/ipykernel_59506/2915610606.py:39: RuntimeWarning: Mean of empty slice\n",
      "  lh_md00[i]=np.nanmean(lh_mod[0:np.shape(lh_mod)[0]:24]-lh_obs[0:np.shape(lh_obs)[0]:48])\n"
     ]
    },
    {
     "name": "stdout",
     "output_type": "stream",
     "text": [
      "station #60\n",
      "station #61\n",
      "station #62\n"
     ]
    },
    {
     "name": "stderr",
     "output_type": "stream",
     "text": [
      "utils.py:108: RuntimeWarning: Mean of empty slice\n",
      "  sh_av_obs[int((i+48)/48)]=np.nanmean(sh_obs[i:i+48:2])\n",
      "utils.py:109: RuntimeWarning: Mean of empty slice\n",
      "  lh_av_obs[int((i+48)/48)]=np.nanmean(lh_obs[i:i+48:2])\n",
      "/tmp/ipykernel_59506/2915610606.py:36: RuntimeWarning: Mean of empty slice\n",
      "  sh_md12[i]=np.nanmean(sh_mod[12:np.shape(sh_mod)[0]:24]-sh_obs[24:np.shape(sh_obs)[0]:48])\n",
      "/tmp/ipykernel_59506/2915610606.py:37: RuntimeWarning: Mean of empty slice\n",
      "  sh_md00[i]=np.nanmean(sh_mod[0:np.shape(sh_mod)[0]:24]-sh_obs[0:np.shape(sh_obs)[0]:48])\n",
      "/tmp/ipykernel_59506/2915610606.py:38: RuntimeWarning: Mean of empty slice\n",
      "  lh_md12[i]=np.nanmean(lh_mod[12:np.shape(lh_mod)[0]:24]-lh_obs[24:np.shape(lh_obs)[0]:48])\n",
      "/tmp/ipykernel_59506/2915610606.py:39: RuntimeWarning: Mean of empty slice\n",
      "  lh_md00[i]=np.nanmean(lh_mod[0:np.shape(lh_mod)[0]:24]-lh_obs[0:np.shape(lh_obs)[0]:48])\n"
     ]
    },
    {
     "name": "stdout",
     "output_type": "stream",
     "text": [
      "station #63\n"
     ]
    },
    {
     "name": "stderr",
     "output_type": "stream",
     "text": [
      "utils.py:108: RuntimeWarning: Mean of empty slice\n",
      "  sh_av_obs[int((i+48)/48)]=np.nanmean(sh_obs[i:i+48:2])\n",
      "utils.py:109: RuntimeWarning: Mean of empty slice\n",
      "  lh_av_obs[int((i+48)/48)]=np.nanmean(lh_obs[i:i+48:2])\n",
      "/tmp/ipykernel_59506/2915610606.py:36: RuntimeWarning: Mean of empty slice\n",
      "  sh_md12[i]=np.nanmean(sh_mod[12:np.shape(sh_mod)[0]:24]-sh_obs[24:np.shape(sh_obs)[0]:48])\n",
      "/tmp/ipykernel_59506/2915610606.py:37: RuntimeWarning: Mean of empty slice\n",
      "  sh_md00[i]=np.nanmean(sh_mod[0:np.shape(sh_mod)[0]:24]-sh_obs[0:np.shape(sh_obs)[0]:48])\n",
      "/tmp/ipykernel_59506/2915610606.py:38: RuntimeWarning: Mean of empty slice\n",
      "  lh_md12[i]=np.nanmean(lh_mod[12:np.shape(lh_mod)[0]:24]-lh_obs[24:np.shape(lh_obs)[0]:48])\n",
      "/tmp/ipykernel_59506/2915610606.py:39: RuntimeWarning: Mean of empty slice\n",
      "  lh_md00[i]=np.nanmean(lh_mod[0:np.shape(lh_mod)[0]:24]-lh_obs[0:np.shape(lh_obs)[0]:48])\n"
     ]
    },
    {
     "name": "stdout",
     "output_type": "stream",
     "text": [
      "station #64\n"
     ]
    },
    {
     "name": "stderr",
     "output_type": "stream",
     "text": [
      "utils.py:108: RuntimeWarning: Mean of empty slice\n",
      "  sh_av_obs[int((i+48)/48)]=np.nanmean(sh_obs[i:i+48:2])\n",
      "utils.py:109: RuntimeWarning: Mean of empty slice\n",
      "  lh_av_obs[int((i+48)/48)]=np.nanmean(lh_obs[i:i+48:2])\n",
      "/tmp/ipykernel_59506/2915610606.py:36: RuntimeWarning: Mean of empty slice\n",
      "  sh_md12[i]=np.nanmean(sh_mod[12:np.shape(sh_mod)[0]:24]-sh_obs[24:np.shape(sh_obs)[0]:48])\n",
      "/tmp/ipykernel_59506/2915610606.py:37: RuntimeWarning: Mean of empty slice\n",
      "  sh_md00[i]=np.nanmean(sh_mod[0:np.shape(sh_mod)[0]:24]-sh_obs[0:np.shape(sh_obs)[0]:48])\n",
      "/tmp/ipykernel_59506/2915610606.py:38: RuntimeWarning: Mean of empty slice\n",
      "  lh_md12[i]=np.nanmean(lh_mod[12:np.shape(lh_mod)[0]:24]-lh_obs[24:np.shape(lh_obs)[0]:48])\n",
      "/tmp/ipykernel_59506/2915610606.py:39: RuntimeWarning: Mean of empty slice\n",
      "  lh_md00[i]=np.nanmean(lh_mod[0:np.shape(lh_mod)[0]:24]-lh_obs[0:np.shape(lh_obs)[0]:48])\n"
     ]
    },
    {
     "name": "stdout",
     "output_type": "stream",
     "text": [
      "station #65\n",
      "station #66\n"
     ]
    },
    {
     "name": "stderr",
     "output_type": "stream",
     "text": [
      "utils.py:108: RuntimeWarning: Mean of empty slice\n",
      "  sh_av_obs[int((i+48)/48)]=np.nanmean(sh_obs[i:i+48:2])\n",
      "utils.py:109: RuntimeWarning: Mean of empty slice\n",
      "  lh_av_obs[int((i+48)/48)]=np.nanmean(lh_obs[i:i+48:2])\n",
      "/tmp/ipykernel_59506/2915610606.py:36: RuntimeWarning: Mean of empty slice\n",
      "  sh_md12[i]=np.nanmean(sh_mod[12:np.shape(sh_mod)[0]:24]-sh_obs[24:np.shape(sh_obs)[0]:48])\n",
      "/tmp/ipykernel_59506/2915610606.py:37: RuntimeWarning: Mean of empty slice\n",
      "  sh_md00[i]=np.nanmean(sh_mod[0:np.shape(sh_mod)[0]:24]-sh_obs[0:np.shape(sh_obs)[0]:48])\n",
      "/tmp/ipykernel_59506/2915610606.py:38: RuntimeWarning: Mean of empty slice\n",
      "  lh_md12[i]=np.nanmean(lh_mod[12:np.shape(lh_mod)[0]:24]-lh_obs[24:np.shape(lh_obs)[0]:48])\n",
      "/tmp/ipykernel_59506/2915610606.py:39: RuntimeWarning: Mean of empty slice\n",
      "  lh_md00[i]=np.nanmean(lh_mod[0:np.shape(lh_mod)[0]:24]-lh_obs[0:np.shape(lh_obs)[0]:48])\n"
     ]
    },
    {
     "name": "stdout",
     "output_type": "stream",
     "text": [
      "station #67\n",
      "station #68\n"
     ]
    },
    {
     "name": "stderr",
     "output_type": "stream",
     "text": [
      "utils.py:108: RuntimeWarning: Mean of empty slice\n",
      "  sh_av_obs[int((i+48)/48)]=np.nanmean(sh_obs[i:i+48:2])\n",
      "utils.py:109: RuntimeWarning: Mean of empty slice\n",
      "  lh_av_obs[int((i+48)/48)]=np.nanmean(lh_obs[i:i+48:2])\n",
      "/tmp/ipykernel_59506/2915610606.py:36: RuntimeWarning: Mean of empty slice\n",
      "  sh_md12[i]=np.nanmean(sh_mod[12:np.shape(sh_mod)[0]:24]-sh_obs[24:np.shape(sh_obs)[0]:48])\n",
      "/tmp/ipykernel_59506/2915610606.py:37: RuntimeWarning: Mean of empty slice\n",
      "  sh_md00[i]=np.nanmean(sh_mod[0:np.shape(sh_mod)[0]:24]-sh_obs[0:np.shape(sh_obs)[0]:48])\n",
      "/tmp/ipykernel_59506/2915610606.py:38: RuntimeWarning: Mean of empty slice\n",
      "  lh_md12[i]=np.nanmean(lh_mod[12:np.shape(lh_mod)[0]:24]-lh_obs[24:np.shape(lh_obs)[0]:48])\n",
      "/tmp/ipykernel_59506/2915610606.py:39: RuntimeWarning: Mean of empty slice\n",
      "  lh_md00[i]=np.nanmean(lh_mod[0:np.shape(lh_mod)[0]:24]-lh_obs[0:np.shape(lh_obs)[0]:48])\n"
     ]
    },
    {
     "name": "stdout",
     "output_type": "stream",
     "text": [
      "station #69\n"
     ]
    },
    {
     "name": "stderr",
     "output_type": "stream",
     "text": [
      "utils.py:108: RuntimeWarning: Mean of empty slice\n",
      "  sh_av_obs[int((i+48)/48)]=np.nanmean(sh_obs[i:i+48:2])\n",
      "utils.py:109: RuntimeWarning: Mean of empty slice\n",
      "  lh_av_obs[int((i+48)/48)]=np.nanmean(lh_obs[i:i+48:2])\n",
      "/tmp/ipykernel_59506/2915610606.py:36: RuntimeWarning: Mean of empty slice\n",
      "  sh_md12[i]=np.nanmean(sh_mod[12:np.shape(sh_mod)[0]:24]-sh_obs[24:np.shape(sh_obs)[0]:48])\n",
      "/tmp/ipykernel_59506/2915610606.py:37: RuntimeWarning: Mean of empty slice\n",
      "  sh_md00[i]=np.nanmean(sh_mod[0:np.shape(sh_mod)[0]:24]-sh_obs[0:np.shape(sh_obs)[0]:48])\n",
      "/tmp/ipykernel_59506/2915610606.py:38: RuntimeWarning: Mean of empty slice\n",
      "  lh_md12[i]=np.nanmean(lh_mod[12:np.shape(lh_mod)[0]:24]-lh_obs[24:np.shape(lh_obs)[0]:48])\n",
      "/tmp/ipykernel_59506/2915610606.py:39: RuntimeWarning: Mean of empty slice\n",
      "  lh_md00[i]=np.nanmean(lh_mod[0:np.shape(lh_mod)[0]:24]-lh_obs[0:np.shape(lh_obs)[0]:48])\n"
     ]
    },
    {
     "name": "stdout",
     "output_type": "stream",
     "text": [
      "station #70\n"
     ]
    }
   ],
   "source": [
    "#go through stations\n",
    "for i in range(nstations):\n",
    "    meta_station=meta[i,]\n",
    "    lat=float(meta_station[1])\n",
    "    lon=float(meta_station[2])\n",
    "    coords=[lat,lon]\n",
    "    print(\"station #\"+str(i))\n",
    "    try:\n",
    "        f=glob.glob(dir_obs+\"/ICOS_FLUXNET_\"+str(round(lat,4))+\"*\"+str(round(lon,4))+\"*\")\n",
    "        dat=pd.read_pickle(f[0])\n",
    "        sh_obs=dat[\"H_CORR\"]\n",
    "        lh_obs=dat[\"LE_CORR\"]\n",
    "        #nearest neighbor\n",
    "        sh_mod=np.array(sh.nearest_gridpoint(coords))/3600*-1\n",
    "        lh_mod=np.array(lh.nearest_gridpoint(coords))/3600*-1\n",
    "        #remove artificial zeros\n",
    "        sh_mod=sh_mod[sh_mod!=0]\n",
    "        lh_mod=lh_mod[lh_mod!=0]\n",
    "        #calc daily average\n",
    "        sh_mod_av, lh_mod_av = era_daily_av(sh_mod,lh_mod)\n",
    "        sh_obs_av, lh_obs_av = obs_daily_av(sh_obs,lh_obs)\n",
    "        sh_cors_day_av[i]=np.corrcoef(sh_mod_av,sh_obs_av)[0,1]\n",
    "        lh_cors_day_av[i]=np.corrcoef(lh_mod_av,lh_obs_av)[0,1]\n",
    "        sh_md_day_av[i]=np.nanmean(sh_mod_av-sh_obs_av)\n",
    "        lh_md_day_av[i]=np.nanmean(lh_mod_av-lh_obs_av)\n",
    "        #per hour\n",
    "        sh_cors00[i]=np.corrcoef(sh_mod[0:np.shape(sh_mod)[0]:24],sh_obs[0::48])[0,1]\n",
    "        sh_cors06[i]=np.corrcoef(sh_mod[6:np.shape(sh_mod)[0]:24],sh_obs[12::48])[0,1]\n",
    "        sh_cors12[i]=np.corrcoef(sh_mod[12:np.shape(sh_mod)[0]:24],sh_obs[24::48])[0,1]\n",
    "        sh_cors18[i]=np.corrcoef(sh_mod[18:np.shape(sh_mod)[0]:24],sh_obs[36::48])[0,1]\n",
    "        lh_cors00[i]=np.corrcoef(lh_mod[0:np.shape(lh_mod)[0]:24],lh_obs[0::48])[0,1]\n",
    "        lh_cors06[i]=np.corrcoef(lh_mod[6:np.shape(lh_mod)[0]:24],lh_obs[12::48])[0,1]\n",
    "        lh_cors12[i]=np.corrcoef(lh_mod[12:np.shape(lh_mod)[0]:24],lh_obs[24::48])[0,1]\n",
    "        lh_cors18[i]=np.corrcoef(lh_mod[18:np.shape(lh_mod)[0]:24],lh_obs[36::48])[0,1]\n",
    "        #mean deviation per hours\n",
    "        sh_md12[i]=np.nanmean(sh_mod[12:np.shape(sh_mod)[0]:24]-sh_obs[24:np.shape(sh_obs)[0]:48])\n",
    "        sh_md00[i]=np.nanmean(sh_mod[0:np.shape(sh_mod)[0]:24]-sh_obs[0:np.shape(sh_obs)[0]:48])\n",
    "        lh_md12[i]=np.nanmean(lh_mod[12:np.shape(lh_mod)[0]:24]-lh_obs[24:np.shape(lh_obs)[0]:48])\n",
    "        lh_md00[i]=np.nanmean(lh_mod[0:np.shape(lh_mod)[0]:24]-lh_obs[0:np.shape(lh_obs)[0]:48])\n",
    "    except:\n",
    "        continue"
   ]
  },
  {
   "cell_type": "code",
   "execution_count": 8,
   "id": "2cf873ec",
   "metadata": {},
   "outputs": [
    {
     "name": "stdout",
     "output_type": "stream",
     "text": [
      "SH correlation 00 UTC: \t\t-0.0020365962409888624\n",
      "SH correlation 12 UTC: \t\t0.12226370258618013\n",
      "SH correlation daily average: \t 0.6774530328929672\n",
      "\n",
      "\n",
      "SH bias 00 UTC: \t\t34.46455242131854\n",
      "SH bias 12 UTC: \t\t-164.4078726328054\n",
      "SH bias daily average: \t -9.860545715167284\n",
      "\n",
      "\n",
      "LH correlation 00 UTC: \t\t0.13409364644337549\n",
      "LH correlation 12 UTC: \t\t0.23187878180776914\n",
      "LH correlation daily average: \t 0.674540034787473\n",
      "\n",
      "\n",
      "LH bias 00 UTC: \t\t27.86762140045509\n",
      "LH bias 12 UTC: \t\t-100.5111056058852\n",
      "LH bias daily average: \t -0.781418005435177\n"
     ]
    }
   ],
   "source": [
    "print(\"SH correlation 00 UTC: \\t\\t\" + str(np.nanmean(sh_cors00)))\n",
    "print(\"SH correlation 12 UTC: \\t\\t\" + str(np.nanmean(sh_cors12)))\n",
    "print(\"SH correlation daily average: \\t \" + str(np.nanmean(sh_cors_day_av)))\n",
    "print(\"\\n\")\n",
    "print(\"SH bias 00 UTC: \\t\\t\" + str(np.nanmean(sh_md00)))\n",
    "print(\"SH bias 12 UTC: \\t\\t\" + str(np.nanmean(sh_md12)))\n",
    "print(\"SH bias daily average: \\t \" + str(np.nanmean(sh_md_day_av)))\n",
    "print(\"\\n\")\n",
    "print(\"LH correlation 00 UTC: \\t\\t\" + str(np.nanmean(lh_cors00)))\n",
    "print(\"LH correlation 12 UTC: \\t\\t\" + str(np.nanmean(lh_cors12)))\n",
    "print(\"LH correlation daily average: \\t \" + str(np.nanmean(lh_cors_day_av)))\n",
    "print(\"\\n\")\n",
    "print(\"LH bias 00 UTC: \\t\\t\" + str(np.nanmean(lh_md00)))\n",
    "print(\"LH bias 12 UTC: \\t\\t\" + str(np.nanmean(lh_md12)))\n",
    "print(\"LH bias daily average: \\t \" + str(np.nanmean(lh_md_day_av)))"
   ]
  },
  {
   "cell_type": "code",
   "execution_count": 9,
   "id": "d6c79f3f",
   "metadata": {},
   "outputs": [
    {
     "data": {
      "image/png": "[encoded data removed]",
      "text/plain": [
       "<Figure size 640x480 with 1 Axes>"
      ]
     },
     "metadata": {},
     "output_type": "display_data"
    }
   ],
   "source": [
    "#linear correlation daily average\n",
    "fig,ax = plt.subplots()\n",
    "x=np.sort(meta[:,1])\n",
    "sh_cors_day_av[sh_cors_day_av==0]='nan'\n",
    "lh_cors_day_av[lh_cors_day_av==0]='nan'\n",
    "ax.plot(x,sh_cors_day_av[np.argsort(meta[:,1])],\"o\",label=\"SH\")\n",
    "ax.plot(x,lh_cors_day_av[np.argsort(meta[:,1])],\"o\",label=\"LH\")\n",
    "ax.axes.set_ylabel(r'linear correlation [$W/m^2$]')\n",
    "ax.axes.set_xlabel(\"S (33°)                         stations (lat)                       N (68°)\")\n",
    "ax.legend()\n",
    "#ax.set_xticklabels(['{:,}'.format(int(x)) for x in ax.get_xticks().tolist()])\n",
    "ax.xaxis.set_major_formatter(ticker.NullFormatter())\n",
    "abline(0,np.nanmean(sh_cors_day_av[sh_cors_day_av!=0]),col='#1f77b4')\n",
    "abline(0,np.nanmean(lh_cors_day_av[lh_cors_day_av!=0]),col=\"orange\")\n",
    "#ax.set_ylim((0.37,1))"
   ]
  },
  {
   "cell_type": "code",
   "execution_count": 10,
   "id": "a5c08f4a",
   "metadata": {},
   "outputs": [
    {
     "data": {
      "image/png": "[encoded data removed]",
      "text/plain": [
       "<Figure size 640x480 with 1 Axes>"
      ]
     },
     "metadata": {},
     "output_type": "display_data"
    }
   ],
   "source": [
    "#bias daily average\n",
    "fig,ax = plt.subplots()\n",
    "x=np.sort(meta[:,1])\n",
    "sh_md_day_av[sh_md_day_av==0]='nan'\n",
    "lh_md_day_av[lh_md_day_av==0]='nan'\n",
    "ax.plot(x,sh_md_day_av[np.argsort(meta[:,1])],\"o\",label=\"SH\")\n",
    "ax.plot(x,lh_md_day_av[np.argsort(meta[:,1])],\"o\",label=\"LH\")\n",
    "ax.axes.set_ylabel(r'mean deviation [$W/m^2$]')\n",
    "ax.axes.set_xlabel(\"S (33°)                         stations (lat)                       N (68°)\")\n",
    "ax.legend()\n",
    "#ax.set_xticklabels(['{:,}'.format(int(x)) for x in ax.get_xticks().tolist()])\n",
    "ax.xaxis.set_major_formatter(ticker.NullFormatter())\n",
    "abline(0,np.nanmean(sh_md_day_av[sh_md_day_av!=0]),col='#1f77b4')\n",
    "abline(0,np.nanmean(lh_md_day_av[lh_md_day_av!=0]),col=\"orange\")\n",
    "#ax.set_ylim((0.37,1))\n"
   ]
  },
  {
   "cell_type": "code",
   "execution_count": 11,
   "id": "71b81d00",
   "metadata": {},
   "outputs": [
    {
     "data": {
      "text/plain": [
       "(-0.4, 0.8)"
      ]
     },
     "execution_count": 11,
     "metadata": {},
     "output_type": "execute_result"
    },
    {
     "data": {
      "image/png": "[encoded data removed]",
      "text/plain": [
       "<Figure size 640x480 with 1 Axes>"
      ]
     },
     "metadata": {},
     "output_type": "display_data"
    }
   ],
   "source": [
    "#correlation 00 and 12 utc\n",
    "fig,ax = plt.subplots()\n",
    "x=np.sort(meta[:,1])\n",
    "sh_cors12[sh_cors12==0]='nan'\n",
    "sh_cors00[sh_cors00==0]='nan'\n",
    "lh_cors12[lh_cors12==0]='nan'\n",
    "lh_cors00[lh_cors00==0]='nan'\n",
    "#ax.plot(x,sh_cors18[np.argsort(meta[:,1])],\"x\",label=\"SH 18 UTC\",color='#1f77b4')\n",
    "ax.plot(x,sh_cors12[np.argsort(meta[:,1])],\"o\",label=\"SH 12 UTC\",color='#1f77b4')\n",
    "ax.plot(x,sh_cors00[np.argsort(meta[:,1])],\"+\",label=\"SH 00 UTC\",color='#1f77b4')\n",
    "#ax.plot(x,lh_cors18[np.argsort(meta[:,1])],\"x\",label=\"LH 18 UTC\",color='orange')\n",
    "ax.plot(x,lh_cors12[np.argsort(meta[:,1])],\"o\",label=\"LH 12 UTC\",color='orange')\n",
    "ax.plot(x,lh_cors00[np.argsort(meta[:,1])],\"+\",label=\"LH 00 UTC\",color='orange')\n",
    "ax.axes.set_ylabel(\"linear correlation\")\n",
    "ax.axes.set_xlabel(\"S (33°)                         stations (lat)                       N (68°)\")\n",
    "ax.legend(loc=(0.93,0.75))\n",
    "#ax.set_xticklabels(['{:,}'.format(int(x)) for x in ax.get_xticks().tolist()])\n",
    "ax.xaxis.set_major_formatter(ticker.NullFormatter())\n",
    "abline(0,np.nanmean(sh_cors12),lty=\"-\",col='#1f77b4')\n",
    "abline(0,np.nanmean(sh_cors00),col='#1f77b4')\n",
    "abline(0,np.nanmean(lh_cors12),lty=\"-\",col='orange')\n",
    "abline(0,np.nanmean(lh_cors00),col='orange')\n",
    "ax.set_ylim((-0.4,0.8))"
   ]
  },
  {
   "cell_type": "code",
   "execution_count": 12,
   "id": "cb932bde",
   "metadata": {},
   "outputs": [
    {
     "data": {
      "text/plain": [
       "(-230.0, 50.0)"
      ]
     },
     "execution_count": 12,
     "metadata": {},
     "output_type": "execute_result"
    },
    {
     "data": {
      "image/png": "[encoded data removed]",
      "text/plain": [
       "<Figure size 640x480 with 1 Axes>"
      ]
     },
     "metadata": {},
     "output_type": "display_data"
    }
   ],
   "source": [
    "#bias 00 and 12 utc\n",
    "fig,ax = plt.subplots()\n",
    "x=np.sort(meta[:,1])\n",
    "sh_md12[sh_cors12==0]='nan'\n",
    "sh_md00[sh_cors00==0]='nan'\n",
    "lh_md12[lh_cors12==0]='nan'\n",
    "lh_md00[lh_cors00==0]='nan'\n",
    "ax.plot(x,sh_md12[np.argsort(meta[:,1])],\"o\",label=\"SH 12 UTC\",color='#1f77b4')\n",
    "ax.plot(x,sh_md00[np.argsort(meta[:,1])],\"+\",label=\"SH 00 UTC\",color='#1f77b4')\n",
    "ax.plot(x,lh_md12[np.argsort(meta[:,1])],\"o\",label=\"LH 12 UTC\",color='orange')\n",
    "ax.plot(x,lh_md00[np.argsort(meta[:,1])],\"+\",label=\"LH 00 UTC\",color='orange')\n",
    "ax.axes.set_ylabel(r\"mean deviation [$W/m^2$]\")\n",
    "ax.axes.set_xlabel(\"S (33°)                         stations (lat)                       N (68°)\")\n",
    "ax.legend(loc=(0.93,0.75))\n",
    "#ax.set_xticklabels(['{:,}'.format(int(x)) for x in ax.get_xticks().tolist()])\n",
    "ax.xaxis.set_major_formatter(ticker.NullFormatter())\n",
    "abline(0,np.nanmean(sh_md12),lty=\"-\",col='#1f77b4')\n",
    "abline(0,np.nanmean(sh_md00),col='#1f77b4')\n",
    "abline(0,np.nanmean(lh_md12),lty=\"-\",col='orange')\n",
    "abline(0,np.nanmean(lh_md00),col='orange')\n",
    "ax.set_ylim((-230,50))"
   ]
  },
  {
   "cell_type": "markdown",
   "id": "c7d903d5",
   "metadata": {},
   "source": [
    "## accumulate 1h data and deaccumulate on 6h"
   ]
  },
  {
   "cell_type": "code",
   "execution_count": 13,
   "id": "95a5f6f5",
   "metadata": {},
   "outputs": [],
   "source": [
    "nstations=np.shape(meta)[0]\n",
    "#sh\n",
    "sh_cors12=np.zeros(nstations)\n",
    "sh_md12=np.zeros(nstations)\n",
    "lh_cors12=np.zeros(nstations)\n",
    "lh_md12=np.zeros(nstations)"
   ]
  },
  {
   "cell_type": "code",
   "execution_count": 14,
   "id": "2a7e17e1",
   "metadata": {},
   "outputs": [
    {
     "name": "stdout",
     "output_type": "stream",
     "text": [
      "0\n"
     ]
    },
    {
     "name": "stderr",
     "output_type": "stream",
     "text": [
      "/tmp/ipykernel_59506/4181709031.py:25: RuntimeWarning: Mean of empty slice\n",
      "  sh_md12[i]=np.nanmean(sh_mod_12-sh_obs[24:np.shape(sh_obs)[0]:48])\n",
      "/tmp/ipykernel_59506/4181709031.py:26: RuntimeWarning: Mean of empty slice\n",
      "  lh_md12[i]=np.nanmean(lh_mod_12-lh_obs[24:np.shape(lh_obs)[0]:48])\n"
     ]
    },
    {
     "name": "stdout",
     "output_type": "stream",
     "text": [
      "nan\n",
      "1\n",
      "nan\n",
      "2\n",
      "0.5377068727395599\n",
      "3\n"
     ]
    },
    {
     "name": "stderr",
     "output_type": "stream",
     "text": [
      "/tmp/ipykernel_59506/4181709031.py:25: RuntimeWarning: Mean of empty slice\n",
      "  sh_md12[i]=np.nanmean(sh_mod_12-sh_obs[24:np.shape(sh_obs)[0]:48])\n",
      "/tmp/ipykernel_59506/4181709031.py:26: RuntimeWarning: Mean of empty slice\n",
      "  lh_md12[i]=np.nanmean(lh_mod_12-lh_obs[24:np.shape(lh_obs)[0]:48])\n"
     ]
    },
    {
     "name": "stdout",
     "output_type": "stream",
     "text": [
      "nan\n",
      "4\n"
     ]
    },
    {
     "name": "stderr",
     "output_type": "stream",
     "text": [
      "/tmp/ipykernel_59506/4181709031.py:25: RuntimeWarning: Mean of empty slice\n",
      "  sh_md12[i]=np.nanmean(sh_mod_12-sh_obs[24:np.shape(sh_obs)[0]:48])\n",
      "/tmp/ipykernel_59506/4181709031.py:26: RuntimeWarning: Mean of empty slice\n",
      "  lh_md12[i]=np.nanmean(lh_mod_12-lh_obs[24:np.shape(lh_obs)[0]:48])\n"
     ]
    },
    {
     "name": "stdout",
     "output_type": "stream",
     "text": [
      "nan\n",
      "5\n"
     ]
    },
    {
     "name": "stderr",
     "output_type": "stream",
     "text": [
      "/tmp/ipykernel_59506/4181709031.py:25: RuntimeWarning: Mean of empty slice\n",
      "  sh_md12[i]=np.nanmean(sh_mod_12-sh_obs[24:np.shape(sh_obs)[0]:48])\n",
      "/tmp/ipykernel_59506/4181709031.py:26: RuntimeWarning: Mean of empty slice\n",
      "  lh_md12[i]=np.nanmean(lh_mod_12-lh_obs[24:np.shape(lh_obs)[0]:48])\n"
     ]
    },
    {
     "name": "stdout",
     "output_type": "stream",
     "text": [
      "nan\n",
      "6\n",
      "0.23693673610800892\n",
      "7\n",
      "8\n",
      "0.5894958583708091\n",
      "9\n",
      "0.7438418678702502\n",
      "10\n",
      "0.5781056787003912\n",
      "11\n",
      "0.6637524116724718\n",
      "12\n"
     ]
    },
    {
     "name": "stderr",
     "output_type": "stream",
     "text": [
      "/tmp/ipykernel_59506/4181709031.py:25: RuntimeWarning: Mean of empty slice\n",
      "  sh_md12[i]=np.nanmean(sh_mod_12-sh_obs[24:np.shape(sh_obs)[0]:48])\n",
      "/tmp/ipykernel_59506/4181709031.py:26: RuntimeWarning: Mean of empty slice\n",
      "  lh_md12[i]=np.nanmean(lh_mod_12-lh_obs[24:np.shape(lh_obs)[0]:48])\n"
     ]
    },
    {
     "name": "stdout",
     "output_type": "stream",
     "text": [
      "nan\n",
      "13\n"
     ]
    },
    {
     "name": "stderr",
     "output_type": "stream",
     "text": [
      "/tmp/ipykernel_59506/4181709031.py:25: RuntimeWarning: Mean of empty slice\n",
      "  sh_md12[i]=np.nanmean(sh_mod_12-sh_obs[24:np.shape(sh_obs)[0]:48])\n",
      "/tmp/ipykernel_59506/4181709031.py:26: RuntimeWarning: Mean of empty slice\n",
      "  lh_md12[i]=np.nanmean(lh_mod_12-lh_obs[24:np.shape(lh_obs)[0]:48])\n"
     ]
    },
    {
     "name": "stdout",
     "output_type": "stream",
     "text": [
      "nan\n",
      "14\n"
     ]
    },
    {
     "name": "stderr",
     "output_type": "stream",
     "text": [
      "/tmp/ipykernel_59506/4181709031.py:25: RuntimeWarning: Mean of empty slice\n",
      "  sh_md12[i]=np.nanmean(sh_mod_12-sh_obs[24:np.shape(sh_obs)[0]:48])\n",
      "/tmp/ipykernel_59506/4181709031.py:26: RuntimeWarning: Mean of empty slice\n",
      "  lh_md12[i]=np.nanmean(lh_mod_12-lh_obs[24:np.shape(lh_obs)[0]:48])\n"
     ]
    },
    {
     "name": "stdout",
     "output_type": "stream",
     "text": [
      "nan\n",
      "15\n"
     ]
    },
    {
     "name": "stderr",
     "output_type": "stream",
     "text": [
      "/tmp/ipykernel_59506/4181709031.py:25: RuntimeWarning: Mean of empty slice\n",
      "  sh_md12[i]=np.nanmean(sh_mod_12-sh_obs[24:np.shape(sh_obs)[0]:48])\n",
      "/tmp/ipykernel_59506/4181709031.py:26: RuntimeWarning: Mean of empty slice\n",
      "  lh_md12[i]=np.nanmean(lh_mod_12-lh_obs[24:np.shape(lh_obs)[0]:48])\n"
     ]
    },
    {
     "name": "stdout",
     "output_type": "stream",
     "text": [
      "nan\n",
      "16\n",
      "0.3872596929876162\n",
      "17\n",
      "0.5866095201452608\n",
      "18\n",
      "0.6138427594308564\n",
      "19\n",
      "0.7208524546234313\n",
      "20\n",
      "0.7146139577110018\n",
      "21\n"
     ]
    },
    {
     "name": "stderr",
     "output_type": "stream",
     "text": [
      "/tmp/ipykernel_59506/4181709031.py:25: RuntimeWarning: Mean of empty slice\n",
      "  sh_md12[i]=np.nanmean(sh_mod_12-sh_obs[24:np.shape(sh_obs)[0]:48])\n",
      "/tmp/ipykernel_59506/4181709031.py:26: RuntimeWarning: Mean of empty slice\n",
      "  lh_md12[i]=np.nanmean(lh_mod_12-lh_obs[24:np.shape(lh_obs)[0]:48])\n"
     ]
    },
    {
     "name": "stdout",
     "output_type": "stream",
     "text": [
      "nan\n",
      "22\n",
      "0.7678778043103358\n",
      "23\n",
      "0.6516450972885484\n",
      "24\n"
     ]
    },
    {
     "name": "stderr",
     "output_type": "stream",
     "text": [
      "/tmp/ipykernel_59506/4181709031.py:25: RuntimeWarning: Mean of empty slice\n",
      "  sh_md12[i]=np.nanmean(sh_mod_12-sh_obs[24:np.shape(sh_obs)[0]:48])\n",
      "/tmp/ipykernel_59506/4181709031.py:26: RuntimeWarning: Mean of empty slice\n",
      "  lh_md12[i]=np.nanmean(lh_mod_12-lh_obs[24:np.shape(lh_obs)[0]:48])\n"
     ]
    },
    {
     "name": "stdout",
     "output_type": "stream",
     "text": [
      "nan\n",
      "25\n",
      "0.6762611495648528\n",
      "26\n"
     ]
    },
    {
     "name": "stderr",
     "output_type": "stream",
     "text": [
      "/tmp/ipykernel_59506/4181709031.py:25: RuntimeWarning: Mean of empty slice\n",
      "  sh_md12[i]=np.nanmean(sh_mod_12-sh_obs[24:np.shape(sh_obs)[0]:48])\n",
      "/tmp/ipykernel_59506/4181709031.py:26: RuntimeWarning: Mean of empty slice\n",
      "  lh_md12[i]=np.nanmean(lh_mod_12-lh_obs[24:np.shape(lh_obs)[0]:48])\n"
     ]
    },
    {
     "name": "stdout",
     "output_type": "stream",
     "text": [
      "nan\n",
      "27\n",
      "0.7410041868717845\n",
      "28\n"
     ]
    },
    {
     "name": "stderr",
     "output_type": "stream",
     "text": [
      "/tmp/ipykernel_59506/4181709031.py:25: RuntimeWarning: Mean of empty slice\n",
      "  sh_md12[i]=np.nanmean(sh_mod_12-sh_obs[24:np.shape(sh_obs)[0]:48])\n",
      "/tmp/ipykernel_59506/4181709031.py:26: RuntimeWarning: Mean of empty slice\n",
      "  lh_md12[i]=np.nanmean(lh_mod_12-lh_obs[24:np.shape(lh_obs)[0]:48])\n"
     ]
    },
    {
     "name": "stdout",
     "output_type": "stream",
     "text": [
      "nan\n",
      "29\n",
      "30\n"
     ]
    },
    {
     "name": "stderr",
     "output_type": "stream",
     "text": [
      "/tmp/ipykernel_59506/4181709031.py:25: RuntimeWarning: Mean of empty slice\n",
      "  sh_md12[i]=np.nanmean(sh_mod_12-sh_obs[24:np.shape(sh_obs)[0]:48])\n",
      "/tmp/ipykernel_59506/4181709031.py:26: RuntimeWarning: Mean of empty slice\n",
      "  lh_md12[i]=np.nanmean(lh_mod_12-lh_obs[24:np.shape(lh_obs)[0]:48])\n"
     ]
    },
    {
     "name": "stdout",
     "output_type": "stream",
     "text": [
      "nan\n",
      "31\n",
      "0.5447124596626106\n",
      "32\n",
      "33\n",
      "0.4597117508759845\n",
      "34\n"
     ]
    },
    {
     "name": "stderr",
     "output_type": "stream",
     "text": [
      "/tmp/ipykernel_59506/4181709031.py:25: RuntimeWarning: Mean of empty slice\n",
      "  sh_md12[i]=np.nanmean(sh_mod_12-sh_obs[24:np.shape(sh_obs)[0]:48])\n",
      "/tmp/ipykernel_59506/4181709031.py:26: RuntimeWarning: Mean of empty slice\n",
      "  lh_md12[i]=np.nanmean(lh_mod_12-lh_obs[24:np.shape(lh_obs)[0]:48])\n"
     ]
    },
    {
     "name": "stdout",
     "output_type": "stream",
     "text": [
      "nan\n",
      "35\n",
      "0.44471233605043525\n",
      "36\n",
      "37\n",
      "nan\n",
      "38\n"
     ]
    },
    {
     "name": "stderr",
     "output_type": "stream",
     "text": [
      "/tmp/ipykernel_59506/4181709031.py:25: RuntimeWarning: Mean of empty slice\n",
      "  sh_md12[i]=np.nanmean(sh_mod_12-sh_obs[24:np.shape(sh_obs)[0]:48])\n",
      "/tmp/ipykernel_59506/4181709031.py:26: RuntimeWarning: Mean of empty slice\n",
      "  lh_md12[i]=np.nanmean(lh_mod_12-lh_obs[24:np.shape(lh_obs)[0]:48])\n"
     ]
    },
    {
     "name": "stdout",
     "output_type": "stream",
     "text": [
      "nan\n",
      "39\n",
      "0.6465911796553832\n",
      "40\n",
      "0.6475969359085773\n",
      "41\n",
      "0.532632864659128\n",
      "42\n"
     ]
    },
    {
     "name": "stderr",
     "output_type": "stream",
     "text": [
      "/tmp/ipykernel_59506/4181709031.py:25: RuntimeWarning: Mean of empty slice\n",
      "  sh_md12[i]=np.nanmean(sh_mod_12-sh_obs[24:np.shape(sh_obs)[0]:48])\n",
      "/tmp/ipykernel_59506/4181709031.py:26: RuntimeWarning: Mean of empty slice\n",
      "  lh_md12[i]=np.nanmean(lh_mod_12-lh_obs[24:np.shape(lh_obs)[0]:48])\n"
     ]
    },
    {
     "name": "stdout",
     "output_type": "stream",
     "text": [
      "nan\n",
      "43\n",
      "44\n",
      "-0.3070493009279289\n",
      "45\n",
      "0.5807712162954729\n",
      "46\n",
      "0.6592425371044672\n",
      "47\n",
      "0.8375716457263813\n",
      "48\n",
      "0.8325470295257266\n",
      "49\n",
      "0.6586993904587228\n",
      "50\n",
      "0.4832848941129988\n",
      "51\n",
      "0.5124119518209584\n",
      "52\n",
      "0.5089178199487143\n",
      "53\n"
     ]
    },
    {
     "name": "stderr",
     "output_type": "stream",
     "text": [
      "/tmp/ipykernel_59506/4181709031.py:25: RuntimeWarning: Mean of empty slice\n",
      "  sh_md12[i]=np.nanmean(sh_mod_12-sh_obs[24:np.shape(sh_obs)[0]:48])\n",
      "/tmp/ipykernel_59506/4181709031.py:26: RuntimeWarning: Mean of empty slice\n",
      "  lh_md12[i]=np.nanmean(lh_mod_12-lh_obs[24:np.shape(lh_obs)[0]:48])\n"
     ]
    },
    {
     "name": "stdout",
     "output_type": "stream",
     "text": [
      "nan\n",
      "54\n",
      "0.5508983726257133\n",
      "55\n",
      "0.8114370195959618\n",
      "56\n",
      "0.21174638881904903\n",
      "57\n",
      "0.691059253867475\n",
      "58\n"
     ]
    },
    {
     "name": "stderr",
     "output_type": "stream",
     "text": [
      "/tmp/ipykernel_59506/4181709031.py:25: RuntimeWarning: Mean of empty slice\n",
      "  sh_md12[i]=np.nanmean(sh_mod_12-sh_obs[24:np.shape(sh_obs)[0]:48])\n",
      "/tmp/ipykernel_59506/4181709031.py:26: RuntimeWarning: Mean of empty slice\n",
      "  lh_md12[i]=np.nanmean(lh_mod_12-lh_obs[24:np.shape(lh_obs)[0]:48])\n"
     ]
    },
    {
     "name": "stdout",
     "output_type": "stream",
     "text": [
      "nan\n",
      "59\n"
     ]
    },
    {
     "name": "stderr",
     "output_type": "stream",
     "text": [
      "/tmp/ipykernel_59506/4181709031.py:25: RuntimeWarning: Mean of empty slice\n",
      "  sh_md12[i]=np.nanmean(sh_mod_12-sh_obs[24:np.shape(sh_obs)[0]:48])\n",
      "/tmp/ipykernel_59506/4181709031.py:26: RuntimeWarning: Mean of empty slice\n",
      "  lh_md12[i]=np.nanmean(lh_mod_12-lh_obs[24:np.shape(lh_obs)[0]:48])\n"
     ]
    },
    {
     "name": "stdout",
     "output_type": "stream",
     "text": [
      "nan\n",
      "60\n",
      "0.5162369122869099\n",
      "61\n",
      "0.5665484344226225\n",
      "62\n"
     ]
    },
    {
     "name": "stderr",
     "output_type": "stream",
     "text": [
      "/tmp/ipykernel_59506/4181709031.py:25: RuntimeWarning: Mean of empty slice\n",
      "  sh_md12[i]=np.nanmean(sh_mod_12-sh_obs[24:np.shape(sh_obs)[0]:48])\n",
      "/tmp/ipykernel_59506/4181709031.py:26: RuntimeWarning: Mean of empty slice\n",
      "  lh_md12[i]=np.nanmean(lh_mod_12-lh_obs[24:np.shape(lh_obs)[0]:48])\n"
     ]
    },
    {
     "name": "stdout",
     "output_type": "stream",
     "text": [
      "nan\n",
      "63\n"
     ]
    },
    {
     "name": "stderr",
     "output_type": "stream",
     "text": [
      "/tmp/ipykernel_59506/4181709031.py:25: RuntimeWarning: Mean of empty slice\n",
      "  sh_md12[i]=np.nanmean(sh_mod_12-sh_obs[24:np.shape(sh_obs)[0]:48])\n",
      "/tmp/ipykernel_59506/4181709031.py:26: RuntimeWarning: Mean of empty slice\n",
      "  lh_md12[i]=np.nanmean(lh_mod_12-lh_obs[24:np.shape(lh_obs)[0]:48])\n"
     ]
    },
    {
     "name": "stdout",
     "output_type": "stream",
     "text": [
      "nan\n",
      "64\n"
     ]
    },
    {
     "name": "stderr",
     "output_type": "stream",
     "text": [
      "/tmp/ipykernel_59506/4181709031.py:25: RuntimeWarning: Mean of empty slice\n",
      "  sh_md12[i]=np.nanmean(sh_mod_12-sh_obs[24:np.shape(sh_obs)[0]:48])\n",
      "/tmp/ipykernel_59506/4181709031.py:26: RuntimeWarning: Mean of empty slice\n",
      "  lh_md12[i]=np.nanmean(lh_mod_12-lh_obs[24:np.shape(lh_obs)[0]:48])\n"
     ]
    },
    {
     "name": "stdout",
     "output_type": "stream",
     "text": [
      "nan\n",
      "65\n",
      "0.8052861077998272\n",
      "66\n"
     ]
    },
    {
     "name": "stderr",
     "output_type": "stream",
     "text": [
      "/tmp/ipykernel_59506/4181709031.py:25: RuntimeWarning: Mean of empty slice\n",
      "  sh_md12[i]=np.nanmean(sh_mod_12-sh_obs[24:np.shape(sh_obs)[0]:48])\n",
      "/tmp/ipykernel_59506/4181709031.py:26: RuntimeWarning: Mean of empty slice\n",
      "  lh_md12[i]=np.nanmean(lh_mod_12-lh_obs[24:np.shape(lh_obs)[0]:48])\n"
     ]
    },
    {
     "name": "stdout",
     "output_type": "stream",
     "text": [
      "nan\n",
      "67\n",
      "0.5517588803993969\n",
      "68\n"
     ]
    },
    {
     "name": "stderr",
     "output_type": "stream",
     "text": [
      "/tmp/ipykernel_59506/4181709031.py:25: RuntimeWarning: Mean of empty slice\n",
      "  sh_md12[i]=np.nanmean(sh_mod_12-sh_obs[24:np.shape(sh_obs)[0]:48])\n",
      "/tmp/ipykernel_59506/4181709031.py:26: RuntimeWarning: Mean of empty slice\n",
      "  lh_md12[i]=np.nanmean(lh_mod_12-lh_obs[24:np.shape(lh_obs)[0]:48])\n"
     ]
    },
    {
     "name": "stdout",
     "output_type": "stream",
     "text": [
      "nan\n",
      "69\n"
     ]
    },
    {
     "name": "stderr",
     "output_type": "stream",
     "text": [
      "/tmp/ipykernel_59506/4181709031.py:25: RuntimeWarning: Mean of empty slice\n",
      "  sh_md12[i]=np.nanmean(sh_mod_12-sh_obs[24:np.shape(sh_obs)[0]:48])\n",
      "/tmp/ipykernel_59506/4181709031.py:26: RuntimeWarning: Mean of empty slice\n",
      "  lh_md12[i]=np.nanmean(lh_mod_12-lh_obs[24:np.shape(lh_obs)[0]:48])\n"
     ]
    },
    {
     "name": "stdout",
     "output_type": "stream",
     "text": [
      "nan\n",
      "70\n",
      "0.7275887379537909\n"
     ]
    }
   ],
   "source": [
    "#go through stations\n",
    "for i in range(nstations):\n",
    "    meta_station=meta[i,]\n",
    "    lat=float(meta_station[1])\n",
    "    lon=float(meta_station[2])\n",
    "    coords=[lat,lon]\n",
    "    print(\"station #\"+str(i))\n",
    "    try:\n",
    "        f=glob.glob(dir_obs+\"/ICOS_FLUXNET_\"+str(round(lat,4))+\"*\"+str(round(lon,4))+\"*\")\n",
    "        dat=pd.read_pickle(f[0])\n",
    "        sh_obs=dat[\"H_CORR\"]\n",
    "        lh_obs=dat[\"LE_CORR\"]\n",
    "        #nearest neighbor\n",
    "        sh_mod=np.array(sh.nearest_gridpoint(coords))/3600*-1\n",
    "        lh_mod=np.array(lh.nearest_gridpoint(coords))/3600*-1\n",
    "        #remove artificial zeros\n",
    "        sh_mod=sh_mod[sh_mod!=0]\n",
    "        lh_mod=lh_mod[lh_mod!=0]\n",
    "        sh_mod_12=acc_deacc(sh_mod)\n",
    "        lh_mod_12=acc_deacc(lh_mod)\n",
    "        #cors per hour\n",
    "        sh_cors12[i]=np.corrcoef(sh_mod_12,sh_obs[24::48])[0,1]\n",
    "        lh_cors12[i]=np.corrcoef(lh_mod_12,lh_obs[24::48])[0,1]\n",
    "        #mean deviation per hours\n",
    "        sh_md12[i]=np.nanmean(sh_mod_12-sh_obs[24:np.shape(sh_obs)[0]:48])\n",
    "        lh_md12[i]=np.nanmean(lh_mod_12-lh_obs[24:np.shape(lh_obs)[0]:48])\n",
    "        print(sh_cors12[i])\n",
    "    except:\n",
    "        continue"
   ]
  },
  {
   "cell_type": "code",
   "execution_count": 15,
   "id": "dd14dcba",
   "metadata": {},
   "outputs": [
    {
     "data": {
      "image/png": "[encoded data removed]",
      "text/plain": [
       "<Figure size 640x480 with 1 Axes>"
      ]
     },
     "metadata": {},
     "output_type": "display_data"
    }
   ],
   "source": [
    "fig,ax = plt.subplots()\n",
    "x=np.sort(meta[:,1])\n",
    "sh_cors12[sh_cors12==0]='nan'\n",
    "lh_cors12[lh_cors12==0]='nan'\n",
    "ax.plot(x,sh_cors12[np.argsort(meta[:,1])],\"o\",label=\"SH\")\n",
    "ax.plot(x,lh_cors12[np.argsort(meta[:,1])],\"o\",label=\"LH\")\n",
    "ax.axes.set_ylabel(r'linear correlation [$W/m^2$]')\n",
    "ax.axes.set_xlabel(\"S (33°)                         stations (lat)                       N (68°)\")\n",
    "ax.legend()\n",
    "#ax.set_xticklabels(['{:,}'.format(int(x)) for x in ax.get_xticks().tolist()])\n",
    "ax.xaxis.set_major_formatter(ticker.NullFormatter())\n",
    "abline(0,np.nanmean(sh_cors12[sh_cors12!=0]),col='#1f77b4')\n",
    "abline(0,np.nanmean(lh_cors12[lh_cors12!=0]),col=\"orange\")\n",
    "#ax.set_ylim((0.37,1))"
   ]
  },
  {
   "cell_type": "code",
   "execution_count": 16,
   "id": "5b590c6e",
   "metadata": {},
   "outputs": [
    {
     "data": {
      "image/png": "[encoded data removed]",
      "text/plain": [
       "<Figure size 640x480 with 1 Axes>"
      ]
     },
     "metadata": {},
     "output_type": "display_data"
    }
   ],
   "source": [
    "fig,ax = plt.subplots()\n",
    "x=np.sort(meta[:,1])\n",
    "sh_md12[sh_md12==0]='nan'\n",
    "lh_md12[lh_md12==0]='nan'\n",
    "#sh_md12=sh_md12/6\n",
    "#lh_md12=lh_md12/6\n",
    "ax.plot(x,sh_md12[np.argsort(meta[:,1])],\"o\",label=\"SH\")\n",
    "ax.plot(x,lh_md12[np.argsort(meta[:,1])],\"o\",label=\"LH\")\n",
    "ax.axes.set_ylabel(r'mean deviation [$W/m^2$]')\n",
    "ax.axes.set_xlabel(\"S (33°)                         stations (lat)                       N (68°)\")\n",
    "ax.legend()\n",
    "#ax.set_xticklabels(['{:,}'.format(int(x)) for x in ax.get_xticks().tolist()])\n",
    "ax.xaxis.set_major_formatter(ticker.NullFormatter())\n",
    "abline(0,np.nanmean(sh_md12[sh_md12!=0]),col='#1f77b4')\n",
    "abline(0,np.nanmean(lh_md12[lh_md12!=0]),col=\"orange\")\n",
    "#ax.set_ylim((0.37,1))"
   ]
  }
 ],
 "metadata": {
  "kernelspec": {
   "display_name": "Python 3 (ipykernel)",
   "language": "python",
   "name": "python3"
  },
  "language_info": {
   "codemirror_mode": {
    "name": "ipython",
    "version": 3
   },
   "file_extension": ".py",
   "mimetype": "text/x-python",
   "name": "python",
   "nbconvert_exporter": "python",
   "pygments_lexer": "ipython3",
   "version": "3.8.16"
  }
 },
 "nbformat": 4,
 "nbformat_minor": 5
}
